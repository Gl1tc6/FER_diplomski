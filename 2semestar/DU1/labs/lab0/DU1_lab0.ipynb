{
  "cells": [
    {
      "cell_type": "markdown",
      "metadata": {
        "id": "_8-jHByOKZX3"
      },
      "source": [
        "### Imports"
      ]
    },
    {
      "cell_type": "code",
      "execution_count": null,
      "metadata": {
        "id": "pvBjkeYDKZX4"
      },
      "outputs": [],
      "source": [
        "import numpy as np\n",
        "import matplotlib.pyplot as plt"
      ]
    },
    {
      "cell_type": "markdown",
      "metadata": {
        "id": "EBwwAvAhKZX5"
      },
      "source": [
        "## 1. Zadatak\n",
        "Rješenje ove vježbe slobodno preuzmite [ovdje](https://www.zemris.fer.hr/~ssegvic/du/src/data.py).\n",
        "\n",
        "Ponovite Python, numpy, i matplotlib prema odjeljcima 0g i 0h.\n",
        "\n",
        "U ovoj vježbi ćemo izvesti razred Random2DGaussian koji će nam omogućiti uzorkovanje 2D podataka generiranih slučajnom Gaussovom distribucijom.\n",
        "Konstruktor razreda treba stvarati parametre slučajne bivarijatne Gaussove razdiobe (vektor μ i matricu Σ).\n",
        "Metoda `get_sample(n)` treba vratiti n slučajno uzorkovanih 2D podataka u numpyjevom polju dimenzija Nx2.\n",
        "Položaj i varijanca razdiobe trebaju biti ograničeni fiksnim parametrima.\n",
        "\n",
        "Pomoć:\n",
        "\n",
        "- Definirajte raspon prihvatljivih vrijednosti za obje koordinate sredine razdiobe μ (npr. minx=0, maxx=10, miny=0, maxy=10); neka to budu podatkovni članovi razreda.\n",
        "- Slučajno izaberite sredinu razdiobe μ prema uniformnoj razdiobi (`np.random.random_sample`).\n",
        "- Slučajno odaberite svojstvene vrijednosti kovarijacijske matrice Σ prema uniformnoj razdiobi i organizirajte ih u dijagonalnu matricu D.\n",
        "- Neka gornja granica svojstvenih vrijednosti ovisi o rasponu prihvatljivih vrijednosti parametra μ, npr.\n",
        "```eigvalx = (np.random.random_sample()*(maxx - minx)/5)**2```\n",
        "  \n",
        "- Slučajno odaberite kut rotacije kovarijacijske matrice i na temelju njega formirajte rotacijsku matricu\n",
        "$$\n",
        "R =\n",
        "\\begin{bmatrix}\n",
        "cos(φ) & -sin(φ)\\\\\n",
        "sin(φ) & cos(φ)\n",
        "\\end{bmatrix}\n",
        "$$\n",
        "- Za uzorkovanje koristite funkciju `np.random.multivariate_normal`."
      ]
    },
    {
      "cell_type": "code",
      "execution_count": null,
      "metadata": {
        "id": "kJhvM_-xKZX6",
        "outputId": "02d756c7-a05c-4133-d6ef-257048497a7c"
      },
      "outputs": [
        {
          "data": {
            "image/png": "[encoded data removed]",
            "text/plain": [
              "<Figure size 640x480 with 1 Axes>"
            ]
          },
          "metadata": {},
          "output_type": "display_data"
        }
      ],
      "source": [
        "class Random2DGaussian:\n",
        "    def __init__(self):\n",
        "        self.minx = 0\n",
        "        self.maxx = 10\n",
        "        self.miny = 0\n",
        "        self.maxy = 10\n",
        "        mix = (self.maxx-self.minx) * np.random.random_sample() + self.minx\n",
        "        miy = (self.maxy-self.miny) * np.random.random_sample() + self.miny\n",
        "        self.mean = [mix, miy]\n",
        "\n",
        "        eigvalx = (np.random.random_sample()*(self.maxx - self.minx)/5)**2\n",
        "        eigvaly = (np.random.random_sample()*(self.maxy - self.miny)/5)**2\n",
        "\n",
        "        D = np.diag([eigvalx, eigvaly])\n",
        "        phi = np.random.uniform(0, 2 * np.pi)\n",
        "        R = np.array([\n",
        "            [np.cos(phi), -np.sin(phi)],\n",
        "            [np.sin(phi), np.cos(phi)]\n",
        "            ])\n",
        "        self.sigma = R @ D @ R.T\n",
        "\n",
        "    def get_sample(self, n:int) -> np.array:\n",
        "        \"\"\"\n",
        "        Generate n samples from the 2D Gaussian distribution.\n",
        "\n",
        "        Parameters:\n",
        "        n (int): Number of samples to generate.\n",
        "\n",
        "        Returns:\n",
        "        np.array: An array of shape (n, 2) containing the generated samples.\n",
        "        \"\"\"\n",
        "        return np.random.multivariate_normal(mean=self.mean, cov=self.sigma, size=n)\n",
        "\n",
        "\n",
        "\n",
        "\n",
        "\n",
        "\n",
        "if __name__==\"__main__\":\n",
        "    np.random.seed(100)\n",
        "    G=Random2DGaussian()\n",
        "    X=G.get_sample(100)\n",
        "    plt.scatter(X[:,0], X[:,1], linewidths=.5, edgecolors=\"black\")\n",
        "    plt.show()"
      ]
    },
    {
      "cell_type": "markdown",
      "metadata": {
        "id": "n5R6ZCYoKZX7"
      },
      "source": [
        "## 2. zadatak\n",
        "### 2.a Zadatak\n",
        "Ponovite binarnu logističku regresiju prema odjeljcima 0d i 0e.\n",
        "\n",
        "Napišite funkciju `binlogreg_train` koja optimizira parametre logističke regresije\n",
        "**w** i *b* na zadanom skupu podataka za učenje. U vašem izvornom kodu koristite sljedeća imena:\n",
        "- X: matrica podataka dimenzija NxD;\n",
        "- Y_: vektor točnih razreda podataka dimenzija Nx1 (koristimo ga tijekom učenja);\n",
        "- Y: vektor predviđenih razreda podataka dimenzija Nx1 (koristimo ga tijekom ispitivanja performanse).\n",
        "\n",
        "Neka funkcija ima sljedeće sučelje:\n",
        "```python\n",
        "def binlogreg_train(X,Y_):\n",
        "  '''\n",
        "    Argumenti\n",
        "      X:  podatci, np.array NxD\n",
        "      Y_: indeksi razreda, np.array Nx1\n",
        "\n",
        "    Povratne vrijednosti\n",
        "      w, b: parametri logističke regresije\n",
        "  '''\n",
        "```\n",
        "\n",
        "Upute:\n",
        "\n",
        "- Inicijalizirajte w prema normalnoj distribuciji N(0,1) (np.random.randn) te b na nulu.\n",
        "- Otvorite petlju gradijentnog spusta. Broj iteracija postupka zadajte hiper-parametrom `param_niter`.\n",
        "- Izračunajte klasifikacijske mjere svih podataka na način da petlje prepustite numpyju (scores = np.dot(X, w) + b).\n",
        "- Izračunajte aposteriorne vjerojatnosti razreda u svim podatcima $P(c_1|X)$ na način da petlje prepustite numpyju\n",
        "- Izračunajte gubitak $L(w,b)$ na način da petlje prepustite numpyju.\n",
        "- Izračunajte gradijente `grad_w` i `grad_b` na način da petlje prepustite numpyju.\n",
        "- Izmijenite parametre u smjeru negativnog gradijenta (neka faktor pomaka `param_delta` bude hiper-parametar postupka).\n",
        "\n",
        "Struktura vaše izvedbe gradijentnog spusta trebala bi izgledati ovako:\n",
        "```python\n",
        "# gradijentni spust (param_niter iteracija)\n",
        "  for i in range(param_niter):\n",
        "    # klasifikacijske mjere\n",
        "    scores = ...    # N x 1\n",
        "    \n",
        "    # vjerojatnosti razreda c_1\n",
        "    probs = ...     # N x 1\n",
        "\n",
        "    # gubitak\n",
        "    loss  = ...     # scalar\n",
        "    \n",
        "    # dijagnostički ispis\n",
        "    if i % 10 == 0:\n",
        "      print(\"iteration {}: loss {}\".format(i, loss))\n",
        "\n",
        "    # derivacije gubitka po klasifikacijskim mjerama\n",
        "    dL_dscores = ...     # N x 1\n",
        "    \n",
        "    # gradijenti parametara\n",
        "    grad_w = ...     # D x 1\n",
        "    grad_b = ...     # 1 x 1\n",
        "\n",
        "    # poboljšani parametri\n",
        "    w += -param_delta * grad_w\n",
        "    b += -param_delta * grad_b\n",
        "```\n",
        "Napišite funkciju `binlogreg_classify` koja klasificira zadani skup podataka u skladu sa zadanim parametrima logističke regresije. Neka funkcija ima sljedeće sučelje:\n",
        "```python\n",
        "'''\n",
        "  Argumenti\n",
        "      X:    podatci, np.array NxD\n",
        "      w, b: parametri logističke regresije\n",
        "\n",
        "  Povratne vrijednosti\n",
        "      probs: vjerojatnosti razreda c1\n",
        "'''\n",
        "```"
      ]
    },
    {
      "cell_type": "code",
      "execution_count": null,
      "metadata": {
        "id": "aY__U7enKZX8"
      },
      "outputs": [],
      "source": [
        "def binlogreg_train(X:np.array,Y_:np.array, n_iter, delta):\n",
        "  '''\n",
        "    Argumenti\n",
        "      X:  podatci, np.array NxD\n",
        "      Y_: indeksi razreda, np.array Nx1\n",
        "\n",
        "    Povratne vrijednosti\n",
        "      w, b: parametri logističke regresije\n",
        "  '''\n",
        "  xs = X.shape if len(X.shape) > 1 else (X.shape[0], 1)\n",
        "  w = np.random.randn(xs[0], xs[1])\n",
        "  b = np.zeros(xs[1])\n",
        "  sigmoid = lambda x: 1/(1+np.exp(-x))\n",
        "\n",
        "  for i in range(n_iter):\n",
        "    # klasifikacijske mjere\n",
        "    scores = X @ w + b    # N x 1\n",
        "\n",
        "    # vjerojatnosti razreda c_1\n",
        "    probs = sigmoid(scores)     # N x 1\n",
        "\n",
        "    # gubitak\n",
        "    loss  = ...     # scalar\n",
        "\n",
        "    # dijagnostički ispis\n",
        "    if i % 10 == 0:\n",
        "      print(\"iteration {}: loss {}\".format(i, loss))\n",
        "\n",
        "    # derivacije gubitka po klasifikacijskim mjerama\n",
        "    dL_dscores = ...     # N x 1\n",
        "\n",
        "    # gradijenti parametara\n",
        "    grad_w = ...     # D x 1\n",
        "    grad_b = ...     # 1 x 1\n",
        "\n",
        "    # poboljšani parametri\n",
        "    w += -delta * grad_w\n",
        "    b += -delta * grad_b\n",
        "\n",
        "  return w, b\n",
        "\n",
        "\n",
        "def binlogreg_classify(X, w, b):\n",
        "  '''\n",
        "  Argumenti\n",
        "      X:    podatci, np.array NxD\n",
        "      w, b: parametri logističke regresije\n",
        "\n",
        "  Povratne vrijednosti\n",
        "      probs: vjerojatnosti razreda c1\n",
        "  '''\n",
        "  pass\n"
      ]
    },
    {
      "cell_type": "markdown",
      "metadata": {
        "id": "7AiaAEQXKZX8"
      },
      "source": [
        "### 2.b zadatak\n",
        "Napišite funkciju `sample_gauss_2d(C, N)` koja stvara C slučajnih bivarijatnih Gaussovih razdioba (prisjetimo se, njih smo u zadatku 1 implementirali razredom Random2DGaussian), te iz svake od njih uzorkuje N podataka. Funkcija treba vratiti matricu X dimenzija (N·C)x2 čiji retci odgovaraju uzorkovanim podatcima te matricu točnih razreda Y dimenzija (N·C)x1 čiji jedini stupac sadrži indeks razdiobe iz koje je uzorkovan odgovarajući podatak. Ako je i-ti redak matrice X uzorkovan iz razdiobe j, onda mora biti Y[i,0]==j.\n",
        "\n",
        "Napišite funkciju `eval_perf_binary(Y,Y_)` koja na temelju predviđenih i točnih indeksa razreda određuje pokazatelje performanse binarne klasifikacije: točnost (engl. accuracy), preciznost (engl. precision) te odziv (engl. recall). Implementaciju te funkcije temeljite na brojnostima istinitih pozitiva (TP), lažnih pozitiva (FP), istinith negativa (TN) i lažnih negativa (FN).\n",
        "\n",
        "Napišite funkciju `eval_AP` koja računa prosječnu preciznost binarne klasifikacije. Neka funkcija na ulazu prima rangiranu listu točnih razreda\n",
        "$Y_r$ koju dobivamo kad matricu točnih razreda $Y$ sortiramo prema aposteriornim vjerojatnostima odgovarajućih podataka $P(c_1|x)$. Rangiranu listu točnih razreda možete dobiti pozivom metode argsort numpyjevog polja. Prosječnu preciznost možete izračunati primjenom sljedećeg izraza:\n",
        "$$\\text{AP} = \\frac{\\sum_{i=0}^{N-1} \\text{Preciznost}(i) \\cdot \\mathbf{Y}_{r_i}}{\\sum_{i=0}^{N-1} \\mathbf{Y}_{r_i}}$$\n",
        "Pri tome $Preciznost(i)$ odgovara preciznosti u slučaju kad podatke s indeksom većim ili jednakim i pridružimo razredu $c_1$, a podatke s indeksom manjim od i - razredu $c_0$. Evo kako bi se trebala ponašati vaša funkcija:\n",
        "```python\n",
        ">>> import data\n",
        ">>> data.eval_AP([0,0,0,1,1,1])\n",
        "1.0\n",
        ">>> data.eval_AP([0,0,1,0,1,1])\n",
        "0.9166666666666666\n",
        ">>> data.eval_AP([0,1,0,1,0,1])\n",
        "0.7555555555555555\n",
        ">>> data.eval_AP([1,0,1,0,1,0])\n",
        "0.5\n",
        "```\n",
        "Napišite ispitni kod za modul `binlogreg.py`. Formirajte skup za učenje pozivom funkcije `sample_gauss_2d`. Pozovite funkciju za učenje te nakon toga provedite klasifikaciju primjera za učenje. Predviđene vjerojatnosti podataka pretvorite u indekse razreda Y pod pretpostavkom odabira razreda s najvećom vjerojatnošću (izbjegnite petlju u Pythonu!). Ispišite pokazatelje performanse dobivene pozivima funkcija `eval_perf_binary` te `eval_AP`.\n",
        "\n",
        "Ako vaš postupak ne postiže točnost od 100%, pokušajte naći objašnjenje.\n",
        "\n",
        "Ako je rezultat prihvatljiv, pohranite kod u datoteku `binlogreg.py`. Funkcije `sample_gauss_2d`, `eval_AP` i `eval_perf_binary` pohranite u datoteku `data.py`."
      ]
    },
    {
      "cell_type": "code",
      "execution_count": null,
      "metadata": {
        "id": "4VqeFfoyKZX9"
      },
      "outputs": [],
      "source": []
    },
    {
      "cell_type": "code",
      "execution_count": null,
      "metadata": {
        "id": "L_fS6vmUKZX9",
        "outputId": "598cbb13-ff87-4805-c9af-fd16d432148c"
      },
      "outputs": [
        {
          "ename": "SyntaxError",
          "evalue": "invalid syntax (164431621.py, line 14)",
          "output_type": "error",
          "traceback": [
            "\u001b[0;36m  Cell \u001b[0;32mIn[15], line 14\u001b[0;36m\u001b[0m\n\u001b[0;31m    Y = # TODO\u001b[0m\n\u001b[0m        ^\u001b[0m\n\u001b[0;31mSyntaxError\u001b[0m\u001b[0;31m:\u001b[0m invalid syntax\n"
          ]
        }
      ],
      "source": [
        "### main testni kod\n",
        "import data\n",
        "if __name__==\"__main__\":\n",
        "    np.random.seed(100)\n",
        "\n",
        "    # get the training dataset\n",
        "    X,Y_ = data.sample_gauss_2d(2, 100)\n",
        "\n",
        "    # train the model\n",
        "    w,b = binlogreg_train(X, Y_)\n",
        "\n",
        "    # evaluate the model on the training dataset\n",
        "    probs = binlogreg_classify(X, w,b)\n",
        "    Y = # TODO\n",
        "\n",
        "    # report performance\n",
        "    accuracy, recall, precision = data.eval_perf_binary(Y, Y_)\n",
        "    AP = data.eval_AP(Y_[probs.argsort()])\n",
        "    print (accuracy, recall, precision, AP)"
      ]
    },
    {
      "cell_type": "markdown",
      "metadata": {
        "id": "FeFJGMBvKZX9"
      },
      "source": []
    },
    {
      "cell_type": "code",
      "execution_count": null,
      "metadata": {
        "id": "MzYLRQnbKZX9"
      },
      "outputs": [],
      "source": []
    }
  ],
  "metadata": {
    "kernelspec": {
      "display_name": "base",
      "language": "python",
      "name": "python3"
    },
    "language_info": {
      "codemirror_mode": {
        "name": "ipython",
        "version": 3
      },
      "file_extension": ".py",
      "mimetype": "text/x-python",
      "name": "python",
      "nbconvert_exporter": "python",
      "pygments_lexer": "ipython3",
      "version": "3.12.2"
    },
    "colab": {
      "provenance": []
    }
  },
  "nbformat": 4,
  "nbformat_minor": 0
}